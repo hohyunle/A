{
 "cells": [
  {
   "cell_type": "markdown",
   "metadata": {},
   "source": [
    "#### 1. 문제 정의 : 4.12 리스트 분할"
   ]
  },
  {
   "cell_type": "markdown",
   "metadata": {},
   "source": [
    "#### 2. 알고리즘 설명\n",
    "리스트 분할"
   ]
  },
  {
   "cell_type": "markdown",
   "metadata": {},
   "source": [
    "#### 3. 손으로 푼 예제\n"
   ]
  },
  {
   "cell_type": "markdown",
   "metadata": {},
   "source": [
    "#### 4. 알고리즘 개요(입력 변수, 출력, 알고리즘 개요)\n",
    "함 &nbsp;&nbsp;&nbsp;수&nbsp;&nbsp;&nbsp;명 : partiton(A, left, right)   \n",
    "입 력   변 수 : 리스트 A,     \n",
    "출&nbsp;&nbsp;&nbsp;&nbsp;&nbsp;&nbsp;&nbsp;&nbsp;&nbsp;&nbsp;력 :   \n",
    "함 수   설 명 :    "
   ]
  },
  {
   "cell_type": "markdown",
   "metadata": {},
   "source": [
    "#### 5. 알고리즘 코드"
   ]
  },
  {
   "cell_type": "code",
   "execution_count": null,
   "metadata": {},
   "outputs": [],
   "source": [
    "def partiton(A, left, right):\n",
    "    low = left + 1                          #왼쪽 부분 리스트의 인덱스(증가방향)\n",
    "    high = right                            #오른쪽 부분 리스트의 인덱스(감소방향)\n",
    "    pivot = A[left]                         #피벗 설정\n",
    "    while (low <= high):                    #low와 high가 역전되지 않는 한 반복\n",
    "        while low <= right and A[low] <= pivot : low += 1\n",
    "        while high >= left and A[high] > pivot : high -= 1\n",
    "\n",
    "        if low < high:                      #선택된 두 레코드 교환\n",
    "            A[low], A[high] = A[high], A[low]\n",
    "    \n",
    "    A[left], A[high] = A[high], A[left]     #마지막으로 high와 피벗 항목 교환\n",
    "\n",
    "    return high                             #피벗의 위치 변환"
   ]
  },
  {
   "cell_type": "markdown",
   "metadata": {},
   "source": [
    "#### 6. 테스트 코드"
   ]
  },
  {
   "cell_type": "code",
   "execution_count": null,
   "metadata": {},
   "outputs": [],
   "source": [
    "#정렬을 이용한 k번째 작은 수 찾기\n",
    "def kth_smallest_sort(A, k):\n",
    "    A.sort()                #배열을 정렬\n",
    "    return A[k-1]           #인덱스가 k-1인 항목 반환\n",
    "\n",
    "A = [7,10,4,3,20,15]\n",
    "print('A 출력 : ', A)\n",
    "\n",
    "A.sort()                    #오름차순 정렬: A=[3,4,7,10,15,20]\n",
    "print('오름차순 정렬 : ', A)\n",
    "\n",
    "A.sort(reverse=True)        #내림차순 정렬: A=[20,15,10,7,4,3]\n",
    "B=sorted(A, reverse=True)   #정렬된 리스트를 반환. A는 변경되지 않음\n",
    "\n",
    "print('내림차순 정렬 : ', A)\n",
    "\n",
    "#축소 정복 기법을 이용한 k번째로 작은 수 찾기\n",
    "def quick_select(A, left, right, k):\n",
    "    pos = partition(A, left, right)         #A에서 피벗의 인덱스\n",
    "\n",
    "    if (pos+1 == left+k):                   #case1: 찾음, 완료\n",
    "        return A[pos]\n",
    "    elif(pos+1 > left+k):                   #case2: 답은 왼쪽 부분리스트에\n",
    "        return quick_select(A, left, pos-1,k)\n",
    "    else:                                   #case3: 답은 오른쪽 부분리스트에\n",
    "        return quick_select(A, pos+1, right, k-(pos+1-left))\n",
    "    \n",
    "\n",
    "#리스트 분할\n",
    "def partiton(A, left, right):\n",
    "    low = left + 1                          #왼쪽 부분 리스트의 인덱스(증가방향)\n",
    "    high = right                            #오른쪽 부분 리스트의 인덱스(감소방향)\n",
    "    pivot = A[left]                         #피벗 설정\n",
    "    while (low <= high):                    #low와 high가 역전되지 않는 한 반복\n",
    "        while low <= right and A[low] <= pivot : low += 1\n",
    "        while high >= left and A[high] > pivot : high -= 1\n",
    "\n",
    "        if low < high:                      #선택된 두 레코드 교환\n",
    "            A[low], A[high] = A[high], A[low]\n",
    "    \n",
    "    A[left], A[high] = A[high], A[left]     #마지막으로 high와 피벗 항목 교환\n",
    "\n",
    "    return high                             #피벗의 위치 변환\n",
    "\n",
    "array = [12,3,5,7,4,19,26,23,15]\n",
    "print(\"입력 테스트= \", array)\n",
    "print(\"[정렬기법] 3번째 작은 수: \", kth_smallest_sort(array, 3))\n",
    "print(\"[정렬기법] 6번째 작은 수: \", kth_smallest_sort(array, 6))\n",
    "n = len(array)\n",
    "print(\"[축소정복] 3번째 작은 수: \", kth_smallest_sort(array, 3))\n",
    "print(\"[축소정복] 6번째 작은 수: \", kth_smallest_sort(array, 6))\n"
   ]
  },
  {
   "attachments": {
    "4.12_실행결과.png": {
     "image/png": "[encoded data removed]"
    }
   },
   "cell_type": "markdown",
   "metadata": {},
   "source": [
    "#### 7. 수행 결과\n",
    "![4.12_실행결과.png](attachment:4.12_실행결과.png)"
   ]
  },
  {
   "cell_type": "markdown",
   "metadata": {},
   "source": [
    "#### 8. 복잡도 분석   \n"
   ]
  },
  {
   "cell_type": "markdown",
   "metadata": {},
   "source": [
    "#### 9. 조별 협력 내용"
   ]
  },
  {
   "attachments": {
    "4.10&11&12_조별협력내용.png": {
     "image/png": "[encoded data removed]"
    }
   },
   "cell_type": "markdown",
   "metadata": {},
   "source": [
    "![4.10&11&12_조별협력내용.png](attachment:4.10&11&12_조별협력내용.png)"
   ]
  },
  {
   "cell_type": "markdown",
   "metadata": {},
   "source": []
  }
 ],
 "metadata": {
  "kernelspec": {
   "display_name": "Python 3",
   "language": "python",
   "name": "python3"
  },
  "language_info": {
   "codemirror_mode": {
    "name": "ipython",
    "version": 3
   },
   "file_extension": ".py",
   "mimetype": "text/x-python",
   "name": "python",
   "nbconvert_exporter": "python",
   "pygments_lexer": "ipython3",
   "version": "3.10.8"
  }
 },
 "nbformat": 4,
 "nbformat_minor": 2
}
