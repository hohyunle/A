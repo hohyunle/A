{
 "cells": [
  {
   "cell_type": "markdown",
   "metadata": {},
   "source": [
    "#### 1. 문제 정의 : 4.7 거듭제곱(억지기법)\n"
   ]
  },
  {
   "cell_type": "markdown",
   "metadata": {},
   "source": [
    "#### 2. 알고리즘 설명\n",
    "억지기법이란 문제의 정의를 바탕으로 한 가장 직접적인 해결 방법이며 매우 광범위한 문제에 적용할 수 있습니다.   \n",
    "이 기법은 특별한 시간 조건이나 공간 조건이 주어져 있지 않았을 때 사용할 수 있으며, 더 효율적인 알고리즘을 설계하기 위한 바탕으로 사용됩니다.\n",
    "\n"
   ]
  },
  {
   "cell_type": "markdown",
   "metadata": {},
   "source": [
    "#### 3. 손으로 푼 예제\n"
   ]
  },
  {
   "cell_type": "markdown",
   "metadata": {},
   "source": [
    "#### 4. 알고리즘 개요(입력 변수, 출력, 알고리즘 개요)\n",
    "함    수   명 : slow_power    \n",
    "입 력   변 수 : 정수 2를 500번 거듭제곱한 결과를 매개변수로 넘겨준다.       \n",
    "출 력 : 거듭제곱한 결과값을 반환하며, 4.8 코드와 처리 시간을 계산해 출력한다.       \n",
    "함 수   설 명 : 거듭제곱을 구하기 위한 함수로, 반복문을 이용해 단순 계산한다.\n"
   ]
  },
  {
   "cell_type": "markdown",
   "metadata": {},
   "source": [
    "#### 5. 알고리즘 코드"
   ]
  },
  {
   "cell_type": "code",
   "execution_count": 1,
   "metadata": {},
   "outputs": [
    {
     "name": "stdout",
     "output_type": "stream",
     "text": [
      "<function slow_power at 0x05F761D8>\n"
     ]
    }
   ],
   "source": [
    "def slow_power(x,n) :        #반복으로 구하는 함수\n",
    "    result = 1.0\n",
    "    for i in range(n):\n",
    "        result = result * x  #루브 : n번 반복\n",
    "    return result"
   ]
  },
  {
   "cell_type": "markdown",
   "metadata": {},
   "source": [
    "#### 6. 테스트 코드"
   ]
  },
  {
   "cell_type": "code",
   "execution_count": 3,
   "metadata": {},
   "outputs": [
    {
     "name": "stdout",
     "output_type": "stream",
     "text": [
      "억 지 기 법 (2**500)=  3.273390607896142e+150\n",
      "축소정복기법(2**500)=  3.273390607896142e+150\n",
      "억 지 기 법  시간...  1.4359374046325684\n",
      "축소정복기법 시간...  0.18438315391540527\n"
     ]
    }
   ],
   "source": [
    "def slow_power(x,n) :        #반복으로 구하는 함수\n",
    "    result = 1.0\n",
    "    for i in range(n):\n",
    "        result = result * x  #루브 : n번 반복\n",
    "    return result\n",
    "\n",
    "def power(x, n):\n",
    "    if n == 0:\n",
    "        return 1\n",
    "    elif (n % 2) == 0:\n",
    "        return power(x*x, n//2)\n",
    "    else:\n",
    "        return x * power(x*x, (n-1)//2)\n",
    "    \n",
    "import time\n",
    "print(\"억 지 기 법 (2**500)= \", power(2.0, 500))\n",
    "print(\"축소정복기법(2**500)= \", slow_power(2.0, 500))\n",
    "\n",
    "t1 = time.time()\n",
    "for i in range(100000) : power(2.0, 500)\n",
    "t2 = time.time()\n",
    "for i in range(100000) : slow_power(2.0, 500)\n",
    "t3 = time.time()\n",
    "\n",
    "print(\"억 지 기 법  시간... \", t3-t2)\n",
    "print(\"축소정복기법 시간... \", t2-t1)"
   ]
  },
  {
   "attachments": {
    "4.7_실행결과.png": {
     "image/png": "[encoded data removed]"
    }
   },
   "cell_type": "markdown",
   "metadata": {},
   "source": [
    "#### 7. 수행 결과\n",
    "![4.7_실행결과.png](attachment:4.7_실행결과.png)"
   ]
  },
  {
   "cell_type": "markdown",
   "metadata": {},
   "source": [
    "#### 8. 복잡도 분석   \n",
    "먼저 dfs 함수에서 각 정점(A~H)을 한 번씩 방문하므로, V번의 호출이 발생합니다. 또한 각 정점마다 인접한 간선을 확인하는 과정에서, 해당 정점의 인접 정점들을 확인하므로, 이는 정점의 차수에 비례합니다. 또한 이때 그래프를 표현하는 방식에 따라 인접 리스트로 표현된 경우엔 O(1)의 시간이 소요되지만, 인접 행렬로 표현되어 있다면 O(V)의 시간이 소요되므로 전체 복잡도는 O(V+E)임을 알 수 있습니다."
   ]
  },
  {
   "cell_type": "markdown",
   "metadata": {},
   "source": [
    "#### 9. 조별 협력 내용"
   ]
  },
  {
   "cell_type": "code",
   "execution_count": null,
   "metadata": {},
   "outputs": [],
   "source": []
  },
  {
   "cell_type": "markdown",
   "metadata": {},
   "source": []
  },
  {
   "cell_type": "markdown",
   "metadata": {},
   "source": []
  }
 ],
 "metadata": {
  "kernelspec": {
   "display_name": "Python 3",
   "language": "python",
   "name": "python3"
  },
  "language_info": {
   "codemirror_mode": {
    "name": "ipython",
    "version": 3
   },
   "file_extension": ".py",
   "mimetype": "text/x-python",
   "name": "python",
   "nbconvert_exporter": "python",
   "pygments_lexer": "ipython3",
   "version": "3.10.8"
  }
 },
 "nbformat": 4,
 "nbformat_minor": 2
}
