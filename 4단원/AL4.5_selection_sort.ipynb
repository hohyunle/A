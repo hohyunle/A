{
 "cells": [
  {
   "cell_type": "markdown",
   "metadata": {},
   "source": [
    "#### 1. 문제 정의 : 4.5 이진 탐색(순환구조)"
   ]
  },
  {
   "cell_type": "markdown",
   "metadata": {},
   "source": [
    "#### 2. 알고리즘 설명 \n",
    "이진 탐색(Binary Search)은 정렬된 배열에서 특정한 원소를 찾는 알고리즘입니다. 이 알고리즘은 배열의 중간에 있는 원소와 찾고자 하는 값을 비교하여 탐색 범위를 반으로 줄여가는 방식으로 동작합니다."
   ]
  },
  {
   "cell_type": "markdown",
   "metadata": {},
   "source": [
    "#### 3. 손으로 푼 예제 \n",
    "![4.5-3.png](https://github.com/jana3292/Algorithm24/blob/main/png/4.5-3.png?raw=true)"
   ]
  },
  {
   "cell_type": "markdown",
   "metadata": {},
   "source": [
    "#### 4. 알고리즘 개요(입력 변수, 출력, 알고리즘 개요)\n",
    "입력 변수 :  [1, 3, 8, 13, 13, 16, 21, 26, 27, 30, 33, 36, 39, 41, 44, 49]  \n",
    "출력 변수 :  10 or -1  \n",
    "함수 설명 : 결과 10은 33이라는 숫자를 찾아냈을 때 표시됨 -1은 찾는 숫자가 없을 시 표시"
   ]
  },
  {
   "cell_type": "markdown",
   "metadata": {},
   "source": [
    "#### 5. 알고리즘 코드\n"
   ]
  },
  {
   "cell_type": "code",
   "execution_count": 1,
   "metadata": {},
   "outputs": [],
   "source": [
    "def binary_search(A, key, low, high):\n",
    "    if(low <= high):\n",
    "        mid = (low + high)\n",
    "        if key == A[mid]:\n",
    "            return mid\n",
    "        elif key < A[mid]:\n",
    "            return binary_search(A, key, low, mid-1)\n",
    "        else :\n",
    "            return binary_search(A, key, mid+1, high)\n",
    "    return -1"
   ]
  },
  {
   "cell_type": "markdown",
   "metadata": {},
   "source": [
    "#### 6. 테스트 코드 "
   ]
  },
  {
   "cell_type": "code",
   "execution_count": 2,
   "metadata": {},
   "outputs": [
    {
     "name": "stdout",
     "output_type": "stream",
     "text": [
      "입력 리스트 =  [1, 3, 8, 13, 13, 16, 21, 26, 27, 30, 33, 36, 39, 41, 44, 49]\n",
      "33 탐색(순환) --> 10\n",
      "32 탐색(순환) --> -1\n"
     ]
    }
   ],
   "source": [
    "def binary_search(A, key, low, high):\n",
    "    if(low <= high):\n",
    "        mid = (low + high)\n",
    "        if key == A[mid]:\n",
    "            return mid\n",
    "        elif key < A[mid]:\n",
    "            return binary_search(A, key, low, mid-1)\n",
    "        else :\n",
    "            return binary_search(A, key, mid+1, high)\n",
    "    return -1\n",
    "\n",
    "listA = [1, 3, 8, 13, 13, 16, 21, 26, 27, 30, 33, 36, 39, 41, 44, 49]\n",
    "print(\"입력 리스트 = \", listA)\n",
    "print(\"33 탐색(순환) -->\", binary_search(listA, 33, 0, len(listA)-1))\n",
    "print(\"32 탐색(순환) -->\", binary_search(listA, 32, 0, len(listA)-1))"
   ]
  },
  {
   "cell_type": "markdown",
   "metadata": {},
   "source": [
    "#### 7. 수행 결과\n",
    "![4.5-7.png](https://github.com/jana3292/Algorithm24/blob/main/png/4.5-7.png?raw=true)"
   ]
  },
  {
   "cell_type": "markdown",
   "metadata": {},
   "source": [
    "#### 8. 복잡도 분석\n",
    "이 알고리즘의 시간 복잡도는 O(1)이다. 최악의 경우 이진 탐색의 시간 복잡도는 O(k)다."
   ]
  },
  {
   "cell_type": "markdown",
   "metadata": {},
   "source": [
    "#### 9. 조별 협력 내용\n",
    "![4.5-9.png](https://github.com/jana3292/Algorithm24/blob/main/png/4.5-9.jpg?raw=true)"
   ]
  }
 ],
 "metadata": {
  "kernelspec": {
   "display_name": "Python 3",
   "language": "python",
   "name": "python3"
  },
  "language_info": {
   "codemirror_mode": {
    "name": "ipython",
    "version": 3
   },
   "file_extension": ".py",
   "mimetype": "text/x-python",
   "name": "python",
   "nbconvert_exporter": "python",
   "pygments_lexer": "ipython3",
   "version": "3.12.0"
  }
 },
 "nbformat": 4,
 "nbformat_minor": 2
}
