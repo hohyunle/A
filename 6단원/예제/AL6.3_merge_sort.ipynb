{
 "cells": [
  {
   "cell_type": "markdown",
   "metadata": {},
   "source": [
    "#### 1. 문제 정의 : 6.3 호스풀 알고리즘의 시프트 테이블 만들기\n"
   ]
  },
  {
   "cell_type": "markdown",
   "metadata": {},
   "source": [
    "#### 2. 알고리즘 설명\n",
    "호스풀 알고리즘을 사용하기 위한 시프트 테이블을 만든다."
   ]
  },
  {
   "cell_type": "markdown",
   "metadata": {},
   "source": [
    "#### 3. 손으로 푼 예제 \n",
    "![5.1-2](https://github.com/jana3292/Algorithm24/blob/main/png/6.3-2.jpg?raw=true)"
   ]
  },
  {
   "cell_type": "markdown",
   "metadata": {},
   "source": [
    "#### 4. 알고리즘 개요(입력 변수, 출력, 알고리즘 개요)\n",
    "함수명 : shift_table(pat)      \n",
    "입 력   변 수 : tbl = [m]*NO_OF_CHARS            \n",
    "출 력   변 수 : tbl[ord(pat[i])] = m-1-i   \n",
    "함 수   설 명 : 시프트 테이블에 있는 알파벳의 패턴의 몇번째 문자인지 알아내는 함수\n"
   ]
  },
  {
   "cell_type": "markdown",
   "metadata": {},
   "source": [
    "####   5. 코드\n"
   ]
  },
  {
   "cell_type": "code",
   "execution_count": 1,
   "metadata": {},
   "outputs": [],
   "source": [
    "NO_OF_CHARS = 128\n",
    "def shift_table(pat):\n",
    "    m = len(pat)                    #패턴의 길이\n",
    "    tbl = [m]*NO_OF_CHARS           #시프트 테이블\n",
    "\n",
    "    for i in range(m-1):            #패턴의 모든 문자에 대해\n",
    "        tbl[ord(pat[i])] = m-1-i    #그 알파벳이 패턴의 몇번째 문자인지\n",
    "    \n",
    "    return tbl"
   ]
  },
  {
   "cell_type": "markdown",
   "metadata": {},
   "source": [
    "####  6. 테스트 코드 "
   ]
  },
  {
   "cell_type": "code",
   "execution_count": null,
   "metadata": {},
   "outputs": [],
   "source": [
    "NO_OF_CHARS = 128\n",
    "def shift_table(pat):\n",
    "    m = len(pat)                    #패턴의 길이\n",
    "    tbl = [m]*NO_OF_CHARS           #시프트 테이블\n",
    "\n",
    "    for i in range(m-1):            #패턴의 모든 문자에 대해\n",
    "        tbl[ord(pat[i])] = m-1-i    #그 알파벳이 패턴의 몇번째 문자인지\n",
    "    \n",
    "    return tbl\n",
    "\n",
    "def search_horspool(T, P):\n",
    "    m = len(P)\n",
    "    n = len(T)\n",
    "    t = shift_table(P)\n",
    "    i = m-1\n",
    "    while(i <= n-1):\n",
    "        k = 0\n",
    "        while k <= m-1 and P[m-1-k]==T[i-k]:\n",
    "            k += 1\n",
    "        if k == m :\n",
    "            return i-m+1\n",
    "        else :\n",
    "            tc = t[ord(T[i-k])]\n",
    "            i += (tc-k)\n",
    "    return -1\n",
    "\n",
    "print(\"패턴의 위치 :\",search_horspool(\"APPLEMANGOBANANAGRAPE\", \"BANANA\"))"
   ]
  },
  {
   "attachments": {
    "6.3_실행결과.png": {
     "image/png": "[encoded data removed]"
    }
   },
   "cell_type": "markdown",
   "metadata": {},
   "source": [
    "####   7. 수행 결과\n",
    "![6.3_실행결과.png](attachment:6.3_실행결과.png)"
   ]
  },
  {
   "cell_type": "markdown",
   "metadata": {},
   "source": [
    "####  8. 복잡도 분석\n",
    "최악의 경우 시간 복잡도는 O(mn)이고, 무작위의 텍스트에 대해 O(n)에 성능을 나타낸다."
   ]
  },
  {
   "attachments": {
    "6.3_조별협력내용.png": {
     "image/png": "[encoded data removed]"
    }
   },
   "cell_type": "markdown",
   "metadata": {},
   "source": [
    "####  9. 협력 내용\n",
    "![6.3_조별협력내용.png](attachment:6.3_조별협력내용.png)"
   ]
  }
 ],
 "metadata": {
  "kernelspec": {
   "display_name": "Python 3",
   "language": "python",
   "name": "python3"
  },
  "language_info": {
   "codemirror_mode": {
    "name": "ipython",
    "version": 3
   },
   "file_extension": ".py",
   "mimetype": "text/x-python",
   "name": "python",
   "nbconvert_exporter": "python",
   "pygments_lexer": "ipython3",
   "version": "3.12.0"
  }
 },
 "nbformat": 4,
 "nbformat_minor": 2
}
