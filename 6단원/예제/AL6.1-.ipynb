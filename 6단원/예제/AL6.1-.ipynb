{
 "cells": [
  {
   "cell_type": "markdown",
   "metadata": {},
   "source": [
    "#### 1. 문제 정의 : 6.1 기수 정렬"
   ]
  },
  {
   "cell_type": "markdown",
   "metadata": {},
   "source": [
    "#### 2. 알고리즘 설명\n"
   ]
  },
  {
   "cell_type": "markdown",
   "metadata": {},
   "source": [
    "#### 3. 손으로 푼 예제\n",
    "기수 정렬이란, 다단계 정렬으로써 자릿수의 값에 따라서 정렬하는 알고리즘을 뜻한다. 이는 첫 번째로 항목들을 저장할 버킷을 준비하고, 이후 두 번째로 입력 항목들을 순서대로 킷값에 따라 해당 버킷에 넣는다. 그 다음 마지막으로 위쪽 버킷부터 순차적으로 버킷 안에 들어 있는 숫자를 출력하는 과정이다."
   ]
  },
  {
   "cell_type": "markdown",
   "metadata": {},
   "source": [
    "#### 4. 알고리즘 개요(입력 변수, 출력, 알고리즘 개요)\n",
    "함수명 : radix_sort(A)      \n",
    "입 력   변 수 : 리스트 A      \n",
    "출력 :   \n",
    "함 수   설 명 : \n"
   ]
  },
  {
   "cell_type": "markdown",
   "metadata": {},
   "source": [
    "#### 5. 알고리즘 코드"
   ]
  },
  {
   "cell_type": "code",
   "execution_count": null,
   "metadata": {},
   "outputs": [],
   "source": [
    "from queue import Queue\n",
    "def radix_sort(A):\n",
    "    queues = []\n",
    "    for i in range(BUCKETS):\n",
    "        queues.append(Queue())\n",
    "\n",
    "        n = len(A)\n",
    "        factor = 1\n",
    "        for d in range(DIGITS):\n",
    "            for i in range(n):\n",
    "                queues[([A[i]]//factor) % BUCKETS].put(A[i])\n",
    "                j=0\n",
    "                for b in range(BUCKETS):\n",
    "                    while not queues[b].empty():\n",
    "                        A[j] = queues[b].get()\n",
    "                        j += 1\n",
    "                factor *= BUCKETS\n",
    "                print(\"step\", d+1, A)"
   ]
  },
  {
   "cell_type": "markdown",
   "metadata": {},
   "source": [
    "#### 6. 테스트 코드"
   ]
  },
  {
   "cell_type": "code",
   "execution_count": 1,
   "metadata": {},
   "outputs": [
    {
     "name": "stdout",
     "output_type": "stream",
     "text": [
      "Original :  [5, 3, 8, 4, 9, 1, 6, 2, 7]\n"
     ]
    },
    {
     "ename": "NameError",
     "evalue": "name 'merge_sort' is not defined",
     "output_type": "error",
     "traceback": [
      "\u001b[1;31m---------------------------------------------------------------------------\u001b[0m",
      "\u001b[1;31mNameError\u001b[0m                                 Traceback (most recent call last)",
      "Cell \u001b[1;32mIn[1], line 23\u001b[0m\n\u001b[0;32m     21\u001b[0m \u001b[38;5;28msorted\u001b[39m \u001b[38;5;241m=\u001b[39m [\u001b[38;5;241m0\u001b[39m] \u001b[38;5;241m*\u001b[39m \u001b[38;5;28mlen\u001b[39m(data)\n\u001b[0;32m     22\u001b[0m \u001b[38;5;28mprint\u001b[39m(\u001b[38;5;124m\"\u001b[39m\u001b[38;5;124mOriginal : \u001b[39m\u001b[38;5;124m\"\u001b[39m, data)\n\u001b[1;32m---> 23\u001b[0m \u001b[43mmerge_sort\u001b[49m(data, \u001b[38;5;241m0\u001b[39m, \u001b[38;5;28mlen\u001b[39m(data)\u001b[38;5;241m-\u001b[39m\u001b[38;5;241m1\u001b[39m)\n\u001b[0;32m     24\u001b[0m \u001b[38;5;28mprint\u001b[39m(\u001b[38;5;124m\"\u001b[39m\u001b[38;5;124mMergeSort : \u001b[39m\u001b[38;5;124m\"\u001b[39m, data)\n",
      "\u001b[1;31mNameError\u001b[0m: name 'merge_sort' is not defined"
     ]
    }
   ],
   "source": [
    "from queue import Queue\n",
    "def radix_sort(A):\n",
    "    queues = []\n",
    "    for i in range(BUCKETS):\n",
    "        queues.append(Queue())\n",
    "\n",
    "        n = len(A)\n",
    "        factor = 1\n",
    "        for d in range(DIGITS):\n",
    "            for i in range(n):\n",
    "                queues[([A[i]]//factor) % BUCKETS].put(A[i])\n",
    "                j=0\n",
    "                for b in range(BUCKETS):\n",
    "                    while not queues[b].empty():\n",
    "                        A[j] = queues[b].get()\n",
    "                        j += 1\n",
    "                factor *= BUCKETS\n",
    "                print(\"step\", d+1, A)\n",
    "\n",
    "def merge(A, left, mid, right):         #A[left.right]를 오름차순으로 정렬\n",
    "    k = left                            #항목이 2개 이상인 경우\n",
    "    i = left                            #리스트의 균등 분할\n",
    "    j = mid+1                           #부분 리스트 정렬\n",
    "    while i<= mid and j<=right:         #부분 리스트 정렬\n",
    "        if A[i] <= A[j]:        \n",
    "            sorted[k] = A[i]\n",
    "            i, k = i+1, k+1\n",
    "    \n",
    "    if i>mid:\n",
    "        sorted[k:k+right-j+1] = A[j:right+1]\n",
    "\n",
    "    else:\n",
    "        sorted[k:k+mid-i+1] = A[i:mid+1]\n",
    "\n",
    "    A[left:right+1] = sorted[left:right+1]\n",
    "\n",
    "data = [ 5, 3, 8, 4, 9, 1, 6, 2, 7]\n",
    "sorted = [0] * len(data)\n",
    "print(\"Original : \", data)\n",
    "merge_sort(data, 0, len(data)-1)\n",
    "print(\"MergeSort : \", data)\n"
   ]
  },
  {
   "cell_type": "markdown",
   "metadata": {},
   "source": [
    "#### 7. 수행 결과\n"
   ]
  },
  {
   "cell_type": "markdown",
   "metadata": {},
   "source": [
    "#### 8. 복잡도 분석   \n"
   ]
  },
  {
   "cell_type": "markdown",
   "metadata": {},
   "source": [
    "#### 9. 조별 협력 내용\n"
   ]
  }
 ],
 "metadata": {
  "language_info": {
   "name": "python"
  }
 },
 "nbformat": 4,
 "nbformat_minor": 2
}
