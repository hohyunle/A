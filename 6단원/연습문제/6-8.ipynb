{
 "cells": [
  {
   "cell_type": "markdown",
   "metadata": {},
   "source": [
    "08. 알파벳으로 { 알, 고, 리, 즘 }을 가질 수 있는 다음 리스트를 카운팅 정렬을 이용해 사전순서로 정렬해 보라.       \n",
    "[ 고, 고, 즘, 알, 리, 알, 즘, 즘, 고, 리 ]"
   ]
  },
  {
   "cell_type": "code",
   "execution_count": 6,
   "metadata": {},
   "outputs": [
    {
     "name": "stdout",
     "output_type": "stream",
     "text": [
      "Original :  ['고', '고', '즘', '알', '리', '알', '즘', '즘', '고', '리']\n"
     ]
    },
    {
     "ename": "IndexError",
     "evalue": "list assignment index out of range",
     "output_type": "error",
     "traceback": [
      "\u001b[1;31m---------------------------------------------------------------------------\u001b[0m",
      "\u001b[1;31mIndexError\u001b[0m                                Traceback (most recent call last)",
      "Cell \u001b[1;32mIn[6], line 26\u001b[0m\n\u001b[0;32m     23\u001b[0m data \u001b[38;5;241m=\u001b[39m [ \u001b[38;5;124m'\u001b[39m\u001b[38;5;124m고\u001b[39m\u001b[38;5;124m'\u001b[39m, \u001b[38;5;124m'\u001b[39m\u001b[38;5;124m고\u001b[39m\u001b[38;5;124m'\u001b[39m, \u001b[38;5;124m'\u001b[39m\u001b[38;5;124m즘\u001b[39m\u001b[38;5;124m'\u001b[39m, \u001b[38;5;124m'\u001b[39m\u001b[38;5;124m알\u001b[39m\u001b[38;5;124m'\u001b[39m, \u001b[38;5;124m'\u001b[39m\u001b[38;5;124m리\u001b[39m\u001b[38;5;124m'\u001b[39m, \u001b[38;5;124m'\u001b[39m\u001b[38;5;124m알\u001b[39m\u001b[38;5;124m'\u001b[39m, \u001b[38;5;124m'\u001b[39m\u001b[38;5;124m즘\u001b[39m\u001b[38;5;124m'\u001b[39m, \u001b[38;5;124m'\u001b[39m\u001b[38;5;124m즘\u001b[39m\u001b[38;5;124m'\u001b[39m, \u001b[38;5;124m'\u001b[39m\u001b[38;5;124m고\u001b[39m\u001b[38;5;124m'\u001b[39m, \u001b[38;5;124m'\u001b[39m\u001b[38;5;124m리\u001b[39m\u001b[38;5;124m'\u001b[39m ]\n\u001b[0;32m     25\u001b[0m \u001b[38;5;28mprint\u001b[39m(\u001b[38;5;124m\"\u001b[39m\u001b[38;5;124mOriginal : \u001b[39m\u001b[38;5;124m\"\u001b[39m, data)\n\u001b[1;32m---> 26\u001b[0m \u001b[43mcounting_sort\u001b[49m\u001b[43m(\u001b[49m\u001b[43mdata\u001b[49m\u001b[43m,\u001b[49m\u001b[43m \u001b[49m\u001b[43mname\u001b[49m\u001b[43m)\u001b[49m\n\u001b[0;32m     27\u001b[0m \u001b[38;5;28mprint\u001b[39m(\u001b[38;5;124m\"\u001b[39m\u001b[38;5;124mCounting : \u001b[39m\u001b[38;5;124m\"\u001b[39m, data)\n",
      "Cell \u001b[1;32mIn[6], line 16\u001b[0m, in \u001b[0;36mcounting_sort\u001b[1;34m(A, N)\u001b[0m\n\u001b[0;32m     14\u001b[0m     index \u001b[38;5;241m=\u001b[39m N\u001b[38;5;241m.\u001b[39mindex(char)\n\u001b[0;32m     15\u001b[0m     count[index] \u001b[38;5;241m-\u001b[39m\u001b[38;5;241m=\u001b[39m \u001b[38;5;241m1\u001b[39m\n\u001b[1;32m---> 16\u001b[0m     \u001b[43moutput\u001b[49m\u001b[43m[\u001b[49m\u001b[43mcount\u001b[49m\u001b[43m[\u001b[49m\u001b[43mindex\u001b[49m\u001b[43m]\u001b[49m\u001b[43m]\u001b[49m \u001b[38;5;241m=\u001b[39m char\n\u001b[0;32m     18\u001b[0m \u001b[38;5;28;01mfor\u001b[39;00m i \u001b[38;5;129;01min\u001b[39;00m \u001b[38;5;28mrange\u001b[39m(\u001b[38;5;28mlen\u001b[39m(A)):     \u001b[38;5;66;03m# 정렬 결과를 원래 배열에 복사 \u001b[39;00m\n\u001b[0;32m     19\u001b[0m     A[i] \u001b[38;5;241m=\u001b[39m output[i]\n",
      "\u001b[1;31mIndexError\u001b[0m: list assignment index out of range"
     ]
    }
   ],
   "source": [
    "def counting_sort(A, N): \n",
    "    output = [0] * len(A)       # 정렬 결과저장용 임시 리스트 \n",
    "    count = [0] * len(N)       # 각 숫자의 빈도를 저장 \n",
    "\n",
    "    for char in A:                 # 각 숫자별 빈도를 계산 \n",
    "        count[N.index(char)] += 1 \n",
    "\n",
    "    for i in range(len(N)):    # count[i]가 출력 배열에서 \n",
    "        count[i] += count[i-1]  # 해당 숫자의 위치가 되도록 수정\n",
    "\n",
    "    for char in reversed(A):    # 모든 입력항목 A[i]에 대해 \n",
    "        #output[count[A[i]]-1] = A[i] # 해당 위치(count[A[i]]-1)에 저장 \n",
    "        #count[A[i]] -= 1        # 킷값 A[i]의 위치를 하나 줄임 \n",
    "        index = N.index(char)\n",
    "        count[index] -= 1\n",
    "        output[count[index]] = char\n",
    "\n",
    "    for i in range(len(A)):     # 정렬 결과를 원래 배열에 복사 \n",
    "        A[i] = output[i]\n",
    "\n",
    "name = ['알', '고', '리', '즘']\n",
    "name.sort()\n",
    "data = [ '고', '고', '즘', '알', '리', '알', '즘', '즘', '고', '리' ]\n",
    "\n",
    "print(\"Original : \", data)\n",
    "counting_sort(data, name)\n",
    "print(\"Counting : \", data)"
   ]
  },
  {
   "cell_type": "code",
   "execution_count": 5,
   "metadata": {},
   "outputs": [
    {
     "name": "stdout",
     "output_type": "stream",
     "text": [
      "Original: ['고', '고', '즘', '알', '리', '알', '즘', '즘', '고', '리']\n",
      "Counting: ['고', '고', '고', '리', '리', '알', '알', '즘', '즘', '즘']\n"
     ]
    }
   ],
   "source": [
    "def counting_sort(A, N):\n",
    "    output = [0] * len(A)\n",
    "    count = [0] * len(N)\n",
    "    \n",
    "    for char in A:\n",
    "        count[N.index(char)] += 1\n",
    "    \n",
    "    for i in range(1, len(N)):\n",
    "        count[i] += count[i-1]\n",
    "    \n",
    "    for char in reversed(A):\n",
    "        index = N.index(char)\n",
    "        count[index] -= 1\n",
    "        output[count[index]] = char\n",
    "    \n",
    "    for i in range(len(A)):\n",
    "        A[i] = output[i]\n",
    "\n",
    "name = ['알', '고', '리', '즘']\n",
    "name.sort()  # 사전순으로 정렬\n",
    "data = ['고', '고', '즘', '알', '리', '알', '즘', '즘', '고', '리']\n",
    "\n",
    "print(\"Original:\", data)\n",
    "counting_sort(data, name)\n",
    "print(\"Counting:\", data)"
   ]
  }
 ],
 "metadata": {
  "language_info": {
   "name": "python"
  }
 },
 "nbformat": 4,
 "nbformat_minor": 2
}
