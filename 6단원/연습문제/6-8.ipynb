{
 "cells": [
  {
   "cell_type": "markdown",
   "metadata": {},
   "source": [
    "08. 알파벳으로 { 알, 고, 리, 즘 }을 가질 수 있는 다음 리스트를 카운팅 정렬을 이용해 사전순서로 정렬해 보라.       \n",
    "[ 고, 고, 즘, 알, 리, 알, 즘, 즘, 고, 리 ]"
   ]
  },
  {
   "cell_type": "code",
   "execution_count": 2,
   "metadata": {},
   "outputs": [
    {
     "name": "stdout",
     "output_type": "stream",
     "text": [
      "Original: ['고', '고', '즘', '알', '리', '알', '즘', '즘', '고', '리']\n",
      "Counting: ['고', '고', '고', '리', '리', '알', '알', '즘', '즘', '즘']\n"
     ]
    }
   ],
   "source": [
    "def counting_sort(A, N):\n",
    "    output = [0] * len(A)\n",
    "    count = [0] * len(N)\n",
    "    \n",
    "    for char in A:\n",
    "        count[N.index(char)] += 1\n",
    "    \n",
    "    for i in range(1, len(N)):\n",
    "        count[i] += count[i-1]\n",
    "    \n",
    "    for char in reversed(A):\n",
    "        index = N.index(char)\n",
    "        count[index] -= 1\n",
    "        output[count[index]] = char\n",
    "    \n",
    "    for i in range(len(A)):\n",
    "        A[i] = output[i]\n",
    "\n",
    "name = ['알', '고', '리', '즘']\n",
    "name.sort()  # 사전순으로 정렬\n",
    "data = ['고', '고', '즘', '알', '리', '알', '즘', '즘', '고', '리']\n",
    "\n",
    "print(\"Original:\", data)\n",
    "counting_sort(data, name)\n",
    "print(\"Counting:\", data)"
   ]
  },
  {
   "cell_type": "code",
   "execution_count": 5,
   "metadata": {},
   "outputs": [
    {
     "name": "stdout",
     "output_type": "stream",
     "text": [
      "Original: ['고', '고', '즘', '알', '리', '알', '즘', '즘', '고', '리']\n",
      "Counting: ['고', '고', '고', '리', '리', '알', '알', '즘', '즘', '즘']\n"
     ]
    }
   ],
   "source": [
    "def counting_sort(A, N):\n",
    "    output = [0] * len(A)\n",
    "    count = [0] * len(N)\n",
    "    \n",
    "    for char in A:\n",
    "        count[N.index(char)] += 1\n",
    "    \n",
    "    for i in range(1, len(N)):\n",
    "        count[i] += count[i-1]\n",
    "    \n",
    "    for char in reversed(A):\n",
    "        index = N.index(char)\n",
    "        count[index] -= 1\n",
    "        output[count[index]] = char\n",
    "    \n",
    "    for i in range(len(A)):\n",
    "        A[i] = output[i]\n",
    "\n",
    "name = ['알', '고', '리', '즘']\n",
    "name.sort()  # 사전순으로 정렬\n",
    "data = ['고', '고', '즘', '알', '리', '알', '즘', '즘', '고', '리']\n",
    "\n",
    "print(\"Original:\", data)\n",
    "counting_sort(data, name)\n",
    "print(\"Counting:\", data)"
   ]
  }
 ],
 "metadata": {
  "language_info": {
   "name": "python"
  }
 },
 "nbformat": 4,
 "nbformat_minor": 2
}
