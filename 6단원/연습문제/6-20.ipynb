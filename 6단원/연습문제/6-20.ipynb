{
 "cells": [
  {
   "cell_type": "markdown",
   "metadata": {},
   "source": [
    "20. 크기가 13인 해시 테이블에서 입력 자료 27과 130은 어떤 인덱스로 대응되는가? 해싱 함수는 h(key)=key%13라고 하자.      \n",
    "⑴ 1, 10                      ⑵ 13, 0                      ⑶ 1, 0                     ⑷ 2, 3"
   ]
  },
  {
   "cell_type": "code",
   "execution_count": null,
   "metadata": {},
   "outputs": [],
   "source": [
    "M = 13                 #테이블의 크기\n",
    "table = [None]*M       # 테이블 만들기: None으로 초기화\n",
    "def hashFn(key) :      # 해시 함수\n",
    "    return key % M\n",
    "def lp_insert(key) :\n",
    "    id = hashFn(key)\n",
    "    count = M\n",
    "    while count>0 and (table[id] != None):\n",
    "        id= (id+1+M) % M  # 다음 위치로 이동\n",
    "        count -= 1        #검사할 남은 위치의 수\n",
    "    if count>0:\n",
    "        table[id] = key   #해당 슬롯에 항목 저장\n",
    "    return\n",
    "\n",
    "print(\"   최초:\",table)\n",
    "lp_insert(27)             #print(\"27삽입:\",table)\n",
    "lp_insert(130)            #print(\"130삽입:\",table)"
   ]
  }
 ],
 "metadata": {
  "language_info": {
   "name": "python"
  }
 },
 "nbformat": 4,
 "nbformat_minor": 2
}
