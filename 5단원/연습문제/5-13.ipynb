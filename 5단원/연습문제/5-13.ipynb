{
 "cells": [
  {
   "cell_type": "code",
   "execution_count": 17,
   "metadata": {},
   "outputs": [
    {
     "name": "stdout",
     "output_type": "stream",
     "text": [
      "정렬 전 리스트 :  [71, 49, 92, 55, 38, 82, 72, 53]\n",
      "번째 단계 :  [38, 49, 53, 55, 71, 82, 72, 92]\n",
      "번째 단계 :  [38, 49, 53, 55]\n",
      "번째 단계 :  [49, 53, 55]\n",
      "번째 단계 :  [53, 55]\n",
      "번째 단계 :  [72, 82, 92]\n",
      "정렬 후 리스트 :  [38, 49, 53, 55, 71, 72, 82, 92]\n"
     ]
    }
   ],
   "source": [
    "def quick_sort(A, left, right):\n",
    "    if left<right:\n",
    "        mid = partiton(A, left, right)\n",
    "        print(i, \"번째 단계 : \", A[left:right+1])\n",
    "        quick_sort(A, left, mid-1)\n",
    "        quick_sort(A, mid+1, right)\n",
    "\n",
    "def partiton(A, left, right):\n",
    "    low = left + 1                          #왼쪽 부분 리스트의 인덱스(증가방향)\n",
    "    high = right                            #오른쪽 부분 리스트의 인덱스(감소방향)\n",
    "    pivot = A[left]                         #피벗 설정\n",
    "    while (low <= high):                    #low와 high가 역전되지 않는 한 반복\n",
    "        while low <= right and A[low] <= pivot : low += 1\n",
    "        while high >= left and A[high] > pivot : high -= 1\n",
    "\n",
    "        if low < high:                      #선택된 두 레코드 교환\n",
    "            A[low], A[high] = A[high], A[low]\n",
    "    \n",
    "    A[left], A[high] = A[high], A[left]     #마지막으로 high와 피벗 항목 교환\n",
    "\n",
    "    return high                             #피벗의 위치 변환\n",
    "\n",
    "A = [71,49,92,55,38,82,72,53]\n",
    "print(\"정렬 전 리스트 : \" , A)\n",
    "quick_sort(A, 0, len(A)-1)\n",
    "print(\"정렬 후 리스트 : \" , A)"
   ]
  }
 ],
 "metadata": {
  "language_info": {
   "name": "python"
  }
 },
 "nbformat": 4,
 "nbformat_minor": 2
}
