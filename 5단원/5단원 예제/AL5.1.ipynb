{
 "cells": [
  {
   "cell_type": "markdown",
   "metadata": {},
   "source": [
    "#### 1. 문제 정의 : 5.1 병합 정렬"
   ]
  },
  {
   "cell_type": "markdown",
   "metadata": {},
   "source": [
    "#### 2. 알고리즘 설명\n",
    "분할 정복의 효과를 잘 보여주는 정렬 알고리즘으로, 하나의 리스트를 같은 크기의 두 개의 부분 리스트로 분할하고, 분할된 부분 리스트를 정렬한 다음, 정렬된 리스트를 병합하는 전략을 사용한다."
   ]
  },
  {
   "cell_type": "markdown",
   "metadata": {},
   "source": [
    "#### 3. 손으로 푼 예제"
   ]
  },
  {
   "cell_type": "markdown",
   "metadata": {},
   "source": [
    "#### 4. 알고리즘 개요(입력 변수, 출력, 알고리즘 개요)\n",
    "함수명 : merge_sort(A(리스트), left(왼쪽 리스트), right(오른쪽 리스트))            \n",
    "입 력   변 수 : A = 리스트, left = 왼쪽 리스트, right = 오른쪽 리스트      \n",
    "출력 : Original : [5, 3, 8, 4, 9, 1, 6, 2, 7]      \n",
    "MergeSort : [1, 2, 3, 4, 5, 6, 7, 8, 9]\n",
    "함 수   설 명 : 받은 리스트 A를 분할하여 정렬한 다음 병합하여 출력해주는 함수입니다."
   ]
  },
  {
   "cell_type": "markdown",
   "metadata": {},
   "source": [
    "#### 5. 알고리즘 코드"
   ]
  },
  {
   "cell_type": "code",
   "execution_count": null,
   "metadata": {},
   "outputs": [],
   "source": [
    "def merge_sort(A,left,right):\n",
    "    if left<right:\n",
    "        mid=(left+right)//2\n",
    "        merge_sort(A,left,mid)\n",
    "        merge_sort(A,mid+1,right)\n",
    "        merge(A,left,mid,right)"
   ]
  },
  {
   "cell_type": "markdown",
   "metadata": {},
   "source": [
    "#### 6. 테스트 코드"
   ]
  },
  {
   "cell_type": "code",
   "execution_count": null,
   "metadata": {},
   "outputs": [],
   "source": [
    "def merge(A,left,mid,right):\n",
    "    k=left\n",
    "    i=left\n",
    "    j=mid+1\n",
    "    while i<=mid and j<=right:\n",
    "        if A[i]<=A[j]:\n",
    "            sorted[k]=A[i]\n",
    "            i,k=i+1,k+1\n",
    "        else:\n",
    "            sorted[k]=A[j]\n",
    "            j,k=j+1,k+1\n",
    "\n",
    "    if i>mid:\n",
    "        sorted[k:k+right-j+1]=A[j:right+1]\n",
    "    else:\n",
    "        sorted[k:k+mid-i+1]=A[i:mid+1]\n",
    "\n",
    "    A[left:right+1]=sorted[left:right+1]\n",
    "\n",
    "def merge_sort(A,left,right):\n",
    "    if left<right:\n",
    "        mid=(left+right)//2\n",
    "        merge_sort(A,left,mid)\n",
    "        merge_sort(A,mid+1,right)\n",
    "        merge(A,left,mid,right)\n",
    "\n",
    "data=[2,1,4,5,6,1,4,6,7]\n",
    "sorted=[0]*len(data)\n",
    "print(\"Original : \",data)\n",
    "merge_sort(data,0,len(data)-1)\n",
    "print(\"MergeSort : \",data)"
   ]
  },
  {
   "attachments": {
    "5.1_실행결과.png": {
     "image/png": "[encoded data removed]"
    }
   },
   "cell_type": "markdown",
   "metadata": {},
   "source": [
    "#### 7. 수행 결과\n",
    "![5.1_실행결과.png](attachment:5.1_실행결과.png)"
   ]
  },
  {
   "cell_type": "markdown",
   "metadata": {},
   "source": [
    "#### 8. 복잡도 분석   \n",
    "병합 정렬은 입력 데이터의 구성에 상관없이 동일한 시간에 정렬이 완료되어 최악, 평균, 최선의 경우를 나누어 생각할 필요가 없다. 따라서 병합 정렬의 복잡도는 O(n log2 n)이다."
   ]
  }
 ],
 "metadata": {
  "kernelspec": {
   "display_name": "Python 3",
   "language": "python",
   "name": "python3"
  },
  "language_info": {
   "codemirror_mode": {
    "name": "ipython",
    "version": 3
   },
   "file_extension": ".py",
   "mimetype": "text/x-python",
   "name": "python",
   "nbconvert_exporter": "python",
   "pygments_lexer": "ipython3",
   "version": "3.10.8"
  }
 },
 "nbformat": 4,
 "nbformat_minor": 2
}
