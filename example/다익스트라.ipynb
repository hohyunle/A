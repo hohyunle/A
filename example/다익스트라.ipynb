{
 "cells": [
  {
   "cell_type": "code",
   "execution_count": 1,
   "metadata": {},
   "outputs": [],
   "source": [
    "def getMinVertex(dist, selected):\n",
    "    minv = -1\n",
    "    mindist = INF\n",
    "    for v in range(len(dist)):\n",
    "        if not selected[v] and dist[v]<mindist:\n",
    "            mindist =dist[v]\n",
    "            minv = v\n",
    "    return minv\n",
    "\n",
    "def shortest_path_dijkstra(vtx, adj, start):\n",
    "    vsize = len(vtx)\n",
    "    dist = list(adj[start])\n",
    "    dist[start] = 0\n",
    "    path = [start] * vsize\n",
    "    found = [False] * vszie\n",
    "    fount[start] = True\n",
    "\n",
    "    for i in range(vsize):\n",
    "        print(\"Step%2d: \"%(i+1), dist)\n",
    "        u = getMinVertex(dist, found)\n",
    "        found[u] = True\n",
    "        \n",
    "        for w in range(vsize):\n",
    "            if not found[w]:\n",
    "                if dist[u] + adj[u][w] < dist[w]:\n",
    "                    dist[w] = dist[u] + adj[u][w]\n",
    "                    path[w] = u\n",
    "\n",
    "    return path"
   ]
  }
 ],
 "metadata": {
  "language_info": {
   "name": "python"
  }
 },
 "nbformat": 4,
 "nbformat_minor": 2
}
