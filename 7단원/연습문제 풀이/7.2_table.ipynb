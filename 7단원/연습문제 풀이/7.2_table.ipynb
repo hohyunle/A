{
 "cells": [
  {
   "cell_type": "markdown",
   "metadata": {},
   "source": [
    "#### 1. 문제 정의 : 7.2 피보나치수열(테이블화 이용)"
   ]
  },
  {
   "cell_type": "markdown",
   "metadata": {},
   "source": [
    "#### 2. 알고리즘 설명\n",
    "**테이블화**는 부분 문제의 해를 메모리에 저장한다는 점은 메모이제이션과 같지만, 메모리의 항목들을 순서적으로 채워나가는 것에 초점을 맞추는 알고리즘이다."
   ]
  },
  {
   "cell_type": "markdown",
   "metadata": {},
   "source": [
    "#### 3. 손으로 푼 예제\n"
   ]
  },
  {
   "cell_type": "markdown",
   "metadata": {},
   "source": [
    "#### 4. 알고리즘 개요(입력 변수, 출력, 알고리즘 개요)\n",
    "함수명 : fib_dp_tab(n)      \n",
    "입 력   변 수 : 부분 문제의 수 n      \n",
    "출력 : 피보나치의 수     \n",
    "함 수   설 명 : n+1 크기의 리스트(테이블)을 만들고 일단 모든 항목들을 None으로 초기화한다. 다음으로 기반 상황에 대한 답을 저장한다. 이후 상향식으로 답을 테이블에 저장해나간다."
   ]
  },
  {
   "cell_type": "markdown",
   "metadata": {},
   "source": [
    "#### 5. 알고리즘 코드"
   ]
  },
  {
   "cell_type": "code",
   "execution_count": null,
   "metadata": {},
   "outputs": [],
   "source": [
    "def fib_dp_tab(n):\n",
    "    f = [None] * (n+1)\n",
    "    f[0] = 0\n",
    "    f[1] = 1\n",
    "    for i in range(2, n+1):\n",
    "        f[i] = f[i-1] + f[i-2]\n",
    "    return f[n]"
   ]
  },
  {
   "cell_type": "markdown",
   "metadata": {},
   "source": [
    "#### 6. 테스트 코드"
   ]
  },
  {
   "cell_type": "code",
   "execution_count": null,
   "metadata": {},
   "outputs": [],
   "source": [
    "def fib_dp_tab(n):\n",
    "    f = [None] * (n+1)\n",
    "    f[0] = 0\n",
    "    f[1] = 1\n",
    "    for i in range(2, n+1):\n",
    "        f[i] = f[i-1] + f[i-2]\n",
    "    return f[n]\n",
    "\n",
    "n=8\n",
    "mem = [None] * (n+1)\n",
    "print('동적계획(  테이블화  ): Fibonacci(%d) = '%n, fib_dp_tab(n))"
   ]
  },
  {
   "attachments": {
    "image.png": {
     "image/png": "[encoded data removed]"
    }
   },
   "cell_type": "markdown",
   "metadata": {},
   "source": [
    "#### 7. 수행 결과\n",
    "![image.png](attachment:image.png)"
   ]
  },
  {
   "cell_type": "markdown",
   "metadata": {},
   "source": [
    "#### 8. 복잡도 분석   \n",
    "순환 호출을 사용하지 않고, for i in range()에서 n번 반복하는 하나의 루프를 사용하므로 시간 복잡도는 O(n)이다."
   ]
  },
  {
   "cell_type": "markdown",
   "metadata": {},
   "source": [
    "#### 9. 조별 협력 내용\n",
    "![6.9_조별협력내용.png](attachment:6.9_조별협력내용.png)"
   ]
  }
 ],
 "metadata": {
  "language_info": {
   "name": "python"
  }
 },
 "nbformat": 4,
 "nbformat_minor": 2
}
